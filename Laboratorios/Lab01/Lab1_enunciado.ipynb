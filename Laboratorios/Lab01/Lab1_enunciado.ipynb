{
  "cells": [
    {
      "cell_type": "markdown",
      "metadata": {
        "cell_id": "097fce6dce21405c911254a775ae3d26",
        "deepnote_cell_type": "markdown",
        "id": "J4_IcuuKZj9Y"
      },
      "source": [
        "<h1><center>Laboratorio 1: Git 👾</center></h1>\n",
        "\n",
        "<center><strong>MDS7202: Laboratorio de Programación Científica para Ciencia de Datos - Primavera 2025</strong></center>"
      ]
    },
    {
      "cell_type": "markdown",
      "metadata": {
        "cell_id": "9e8e8f2ae34e461da4f44508a96d2cf4",
        "deepnote_cell_type": "markdown",
        "id": "AEXIACc7aADv"
      },
      "source": [
        "### Cuerpo Docente:\n",
        "\n",
        "- Profesores: Diego Cortez, Gabriel Iturra\n",
        "- Auxiliares: Melanie Peña, Valentina Rojas\n",
        "- Ayudantes: Nicolás Cabello, Cristopher Urbina"
      ]
    },
    {
      "cell_type": "markdown",
      "metadata": {
        "cell_id": "3e5b48c23e1b48f6a64de41899166179",
        "deepnote_cell_type": "markdown",
        "id": "0HgMMyoCaG8X"
      },
      "source": [
        "### Equipo: MARIEL \n",
        "\n",
        "- Nombre de alumno 1: María Ignacia Martínez Cuevas\n",
        "- Nombre de alumno 2: Daniel Orlando Vargas Sanabria"
      ]
    },
    {
      "cell_type": "markdown",
      "metadata": {
        "cell_id": "1db7c82b68614d19b112ba3b0d0abe4d",
        "deepnote_cell_type": "markdown",
        "id": "fz77X6glaK6y"
      },
      "source": [
        "### **Link de repositorio de GitHub:** [Enlace MARIEL](https://github.com/mignaciamc/mariel)"
      ]
    },
    {
      "cell_type": "markdown",
      "metadata": {
        "cell_id": "bc3dac65089d4ae6a43c079547dee179",
        "deepnote_cell_type": "markdown",
        "id": "rRwqaxIZaNx3"
      },
      "source": [
        "## Reglas:\n",
        "\n",
        "- **Grupos de 2 personas**\n",
        "- Fecha de entrega: Entregas Martes a las 23:59.\n",
        "- Instrucciones del lab el viernes a las 16:15 en formato online. Asistencia no es obligatoria, pero se recomienda **fuertemente** asistir.\n",
        "- <u>Prohibidas las copias</u>. Cualquier intento de copia será debidamente penalizado con el reglamento de la escuela.\n",
        "- Tienen que subir el laboratorio a u-cursos y a su repositorio de github. Labs que no estén en u-cursos no serán revisados. Recuerden que el repositorio también tiene nota.\n",
        "- Cualquier duda fuera del horario de clases al foro. Mensajes al equipo docente serán respondidos por este medio.\n",
        "- Pueden usar cualquier material del curso que estimen conveniente."
      ]
    },
    {
      "cell_type": "markdown",
      "metadata": {
        "cell_id": "05e4729411a24153837fd13b7f198bd9",
        "deepnote_cell_type": "markdown",
        "id": "bmToL27JaSrf"
      },
      "source": [
        "## Objetivos del lab:\n",
        "\n",
        "\n",
        "- Conocer los elementos básicos que conformar `Git`\n",
        "- Clonar repositorios\n",
        "- Identificar ramas de un repositorio\n",
        "- Reconocer y solucionar problemas entre ramas\n",
        "- Subir cambios a un repositorio"
      ]
    },
    {
      "cell_type": "markdown",
      "metadata": {
        "cell_id": "5ebae9d601bd4d508349ab55297e9f82",
        "deepnote_cell_type": "markdown",
        "id": "bvnPCvrVbJLK"
      },
      "source": [
        "## Parte 1: Conocimiento Teórico (2.5 pts)\n",
        "\n",
        "<p align=\"center\">\n",
        "  <img src=\"https://cdn.thedesigninspiration.com/wp-content/uploads/sites/3/2019/04/macintosh-hdusersbrittanyloefflerdownloadsanig-1.gif\" width=\"350\">\n",
        "</p>"
      ]
    },
    {
      "cell_type": "markdown",
      "metadata": {
        "cell_id": "627494dba4f84520b3ee8b9cbf58ee79",
        "deepnote_cell_type": "markdown",
        "id": "JHl-24XnbNLF"
      },
      "source": [
        "Responda las siguientes preguntas (0.2 pts c/u):\n",
        "\n",
        "1. ¿Qué es `Git` y cómo se relaciona con el control de versiones?\n",
        "\n",
        "2. Nombre y explique 3 diferencias entre `Git` y `Github`.\n",
        "\n",
        "3. ¿Qué es un `hash` y cómo se representa en un `commit`? De un ejemplo.\n",
        "\n",
        "4. ¿Que elementos componen a la estructura de datos de `Git`?\n",
        "\n",
        "5. ¿Que comandos de `Git` sirven para crear un repositorio y hacer seguimiento a cambios en los archivos?"
      ]
    },
    {
      "cell_type": "markdown",
      "metadata": {
        "cell_id": "6d06c40f429044a298b27c666f51f46f",
        "deepnote_cell_type": "markdown",
        "id": "2tXCSkf0caG8"
      },
      "source": [
        "<code>Escriba sus respuestas acá:</code>\n",
        "\n",
        "1. Es un sistema de control de versiones distribuido que permite gestionar y registrar los cambios realizados en un archivo (o varios) a lo largo del tiempo. Se relaciona con un control de versiones en la medida en que permite ver snapshots del proyecto, hacer un seguimiento de los cambios y trabajar de forma paralela en distintas ramas (branches). \n",
        "\n",
        "2. A continuación, se presentan las tres diferencias entre `Git` y `Github`:\n",
        "\n",
        "    a) De acuerdo con la naturaleza: Git es un sistema de control de versiones, mientras que Github es un servicio de alojamiento web.\n",
        "\n",
        "    b) Por su uso: Git es una herramienta de linea de comando, mientras que Github entrega una interfaz gráfica. \n",
        " \n",
        "    c) Según su objetivo:  Git permite crear un repositorio local para trackear los cambios locales y Github permite compartir y colaborar con otros usuarios en repositorios que están almacenados en una nube. \n",
        "\n",
        "3. Un hash es un código único que sirve como identificador de cada archivo, carpeta y versión del proyecto. Se representa con 40 caracteres en sistema hexadecimal generado de forma automatica por el algoritmo SHA1. Ejemplo: commit 9fceb02b213765ec82b8d1ac2b8a1b90a2f3f1e8. \n",
        "\n",
        "4. Los elementos que componen a la estructura de datos de Git son: \n",
        "    - Blob (contenido de los archivos)\n",
        "    - Tree (carpetas) \n",
        "    - Commit (captura instantanea de los archivos del repositorio).\n",
        "\n",
        "5. Los comandos de `Git` que sirven para crear un repositorio y hacer seguimiento a cambios en los archivos son: \n",
        "\n",
        "- `git init`: Crea un nuevo repositorio local.\n",
        "\n",
        "- `git status`:  da una idea del estado actual del repositorio.\n",
        "\n",
        "- `git add`: Agrega archivos al staging (area de preparación).\n",
        "\n",
        "- `git commit`: captura una instantanea de los archivos staged del repositorio y agregarlos al historial de cambios (creando una nueva versión del proyecto).\n",
        "\n",
        "- `git log`: Muestra el registro de cambios con la estructura completa del commit (autor, fecha y hash).\n",
        "\n",
        "- `git diff`: Permite observar las diferencias entre conjuntos de archivos en el repositorio.\n",
        " "
      ]
    },
    {
      "cell_type": "markdown",
      "metadata": {
        "cell_id": "ec9855406e324cc98b59e33500faea84",
        "deepnote_cell_type": "markdown",
        "id": "MACccbP4gU43"
      },
      "source": [
        "Responda si las siguientes afirmaciones son Verdaderas (V) o Falsas (F). Justifique en **cualquiera** de los casos (0.2 pts c/u):\n",
        "\n",
        "\n",
        "6. `Git` siempre resuelve automáticamente los problemas de lineas al hacer merge entre diferentes ramas.\n",
        "7. Ejecutar `git pull` sobre un repositorio es equivalente a ejecutar `git clone`.\n",
        "8. `git status` genera los mismos resultados que `git log`.\n",
        "9. En `Git` es posible deshacer cambios y volver a versiones anteriores del código.\n",
        "10. El comando `git commit` se utiliza para enviar cambios al repositorio remoto."
      ]
    },
    {
      "cell_type": "markdown",
      "metadata": {
        "cell_id": "7e6a5a6e15b045cc9d104cf017825f1a",
        "deepnote_cell_type": "markdown",
        "id": "DFnmCToOgeM3"
      },
      "source": [
        "<code>Escriba sus respuestas acá:</code>\n",
        "\n",
        "6. **Falso**, porque pueden existir colisiones (conflictos) en el trabajo realizado dentro de distintas ramas, que generalmente deben resolverse a mano.\n",
        "7. **Falso**, el comando git pull se usa para traer y unificar la información con todos los cambios del repositorio remoto, mientras que  git clone descarga todo el repositorio por primera vez. \n",
        "8. **Falso**, `git status` muestra el estado actual de los archivos del repositorio, mientras que `git log` muestra el historial de los commits.\n",
        "9. **Verdadero**, con los comandos git checkout o git reset, se pueden deshacer cambios y volver a estados anteriores del proyecto.\n",
        "10. **Falso**, este comando guarda los cambios de forma local, para enviarlos se usa `git push`. Con el commit los archivos staged pasan a ser unmodified.\n"
      ]
    },
    {
      "cell_type": "markdown",
      "metadata": {
        "cell_id": "54317cad024744ebaf4938df55ba3b95",
        "deepnote_cell_type": "markdown",
        "id": "LYq55sI2Rjf0"
      },
      "source": [
        "Por último, investigue y comente con sus palabras para qué sirven los siguientes comandos:\n",
        "\n",
        "11. `git stash` (0.25 puntos)\n",
        "12. `git reset`. ¿Cuál es la diferencia de este comando con `git revert`?. (0.25 puntos)"
      ]
    },
    {
      "cell_type": "markdown",
      "metadata": {},
      "source": [
        "<code>Escriba sus respuestas acá:</code>\n",
        "\n",
        "11. El comando git stash se usa para guardar (de forma temporal) cambios que todavía no se quieren confirmar (lo que si se haría con git commit) y que se quieren mantener, por ejemplo, cuando se quiere realizar otras tareas.\n",
        "\n",
        "12. El comando git reset ayuda a deshacer cambios moviendo el puntero de una rama a un commit especifico, lo cual es un cambio irreversible, pues reescribe el historial al eliminar los commits posteriores (es de cuidado en casos donde se comparten ramas). Por su parte, git revert crea un nuevo commit para deshacer los cambios sin reescribir el historial.\n"
      ]
    },
    {
      "cell_type": "markdown",
      "metadata": {
        "cell_id": "3e4d8b9974e4426ca38fd20f4b835a55",
        "deepnote_cell_type": "markdown",
        "id": "i7Em9JkbbRLo"
      },
      "source": [
        "## Parte 2: Creando una presentación personal (1.5 pts)\n",
        "\n",
        "<p align=\"center\">\n",
        "  <img src=\"https://media.tenor.com/arqlNu8gyJYAAAAC/cat-cat-jumping.gif\" width=\"150\">\n",
        "</p>\n",
        "\n"
      ]
    },
    {
      "cell_type": "markdown",
      "metadata": {
        "cell_id": "988648005dba4b9782c6625dfe6ae4ef",
        "deepnote_cell_type": "markdown",
        "id": "XWIHfyrlbYOJ"
      },
      "source": [
        "Para empezar a \"*soltar las manos*\" con `Git`, se les encomienda crear un repositorio con una presentación personal. El repositorio debe contener un breve resumen de quienes son ustedes, sus gustos, experiencias, y cualquier otro detalle interesante que ustedes consideren relevante.\n",
        "\n",
        "Para realizar esto, deben seguir los siguientes pasos:\n",
        "\n",
        "1. Contar con una cuenta de github (1 por persona)\n",
        "2. Crear un repositorio con su nombre de usuario\n",
        "3. Vincular el repositorio a su ambiente local ¿Qué comando(s) me permiten hacer esto?\n",
        "4. Crear un archivo `readme.md` con la información que ustedes deseen compartir.\n",
        "5. Realizar `push` con los cambios generados\n",
        "\n",
        "\n",
        "**Nota: Deben trabajar todos estos puntos desde su ambiente local**\n",
        "\n",
        "*Hint: Una buena opción es usar templates de presentación personal que encuentren en Google, como los que ofrece este [sitio](https://durgeshsamariya.github.io/awesome-github-profile-readme-templates/#/)*.\n",
        "\n",
        "**Entregable:**\n",
        "\n",
        "Enlace al repositorio con la presentación personal.\n",
        "\n",
        "IMPORTANTE: DEBEN ADJUNTAR UN ENLACE POR PERSONA"
      ]
    },
    {
      "cell_type": "markdown",
      "metadata": {
        "cell_id": "081b38d55dc54282bc8e3cd300ce9d3e",
        "deepnote_cell_type": "markdown",
        "id": "IIkWyl9tf0Sg"
      },
      "source": [
        "<code>Link Presentacion 1:</code> [María Ignacia Martínez (mignaciamc)](https://github.com/mignaciamc/mignaciamc)\n",
        "\n",
        "<code>Link Presentacion 2:</code> "
      ]
    },
    {
      "cell_type": "markdown",
      "metadata": {
        "cell_id": "0481a05d2d1a46928f6cfb7762720980",
        "deepnote_cell_type": "markdown",
        "id": "CAzXOwvDY-IG"
      },
      "source": [
        "## Parte 3: Trabajando sobre un repositorio externo (2 pts)\n",
        "\n",
        "<p align=\"center\">\n",
        "  <img src=\"https://media.tenor.com/YXL-0SK15j4AAAAC/dance-animals.gif\" width=\"300\">\n",
        "</p>\n",
        "\n",
        "Tras muchos dolores de cabeza, un grupo de entusiastas académicos decidieron aprender sobre `Git` y así trabajar colaborativamente de forma más ordenada y eficiente. Después de una infinidad de intentos y aprender de sus errores \"*a la mala*\", los académicos lograron levantar un [repositorio](https://github.com/MDS7202/lab1) en `Github`. Usando el repositorio de los académicos, responda las siguientes preguntas (**incluya también los comandos en `Git` ocupados**):\n"
      ]
    },
    {
      "cell_type": "markdown",
      "metadata": {
        "cell_id": "bcef73b2e8604579bde90ed6622abfe9",
        "deepnote_cell_type": "markdown",
        "id": "BFRnAw0rfguR"
      },
      "source": [
        "1. Clone el repositorio a su ambiente local. (0.25 pts)"
      ]
    },
    {
      "cell_type": "markdown",
      "metadata": {
        "cell_id": "5d126ac3819c44479af94d3895bc4c97",
        "deepnote_cell_type": "markdown",
        "id": "KXro32yBeilN"
      },
      "source": [
        "<code>Escriba sus respuestas acá:</code>"
      ]
    },
    {
      "cell_type": "markdown",
      "metadata": {},
      "source": [
        "Desde el ambiente local, se utiliza la siguiente línea de comando para clonar el repositorio es: \n",
        "\n",
        "<code>git clone https://github.com/MDS7202/lab1<code>"
      ]
    },
    {
      "cell_type": "markdown",
      "metadata": {
        "cell_id": "e215e4e25b2440f09ac273ba63603986",
        "deepnote_cell_type": "markdown",
        "id": "8QB-GKmQRjf1"
      },
      "source": [
        "2. Descomprima los archivos subidos con la tarea en U-cursos en la carpeta recién clonada de github. Una vez realizado esto, cree un archivo `.gitignore` con el cual omita la carpeta `videos` y los archivos con la extensión `.txt` exceptuando el archivo `171.txt` de la carpeta `texts`. (0.25 pts)"
      ]
    },
    {
      "cell_type": "markdown",
      "metadata": {
        "cell_id": "186233b44d004e3bbd86262d010188b5",
        "deepnote_cell_type": "markdown",
        "id": "7VJ8IIYpRjf1"
      },
      "source": [
        "<code>Para esta pregunta usted deberá adjuntar el .gitignore creado en su repo.</code>\n",
        "\n",
        "El archivo `.gitignore` se encuentra [aquí](https://github.com/mignaciamc/mariel/blob/main/Laboratorios/Lab01/.gitignore). "
      ]
    },
    {
      "cell_type": "markdown",
      "metadata": {
        "cell_id": "1de150590a41484a988b8e46616a2324",
        "deepnote_cell_type": "markdown",
        "id": "q2qmiDyjt2M_"
      },
      "source": [
        "3. Inspeccione brevemente el repositorio: ¿Cual es el objetivo del proyecto? Explique brevemente la estructura del proyecto, asi como también cada elemento que lo conforma. (0.25 pts)"
      ]
    },
    {
      "cell_type": "markdown",
      "metadata": {
        "cell_id": "082ca01c865e48e28352b280400c47b6",
        "deepnote_cell_type": "markdown",
        "id": "aBHpR8VTftkT"
      },
      "source": [
        "<code>Escriba sus respuestas acá:</code>\n",
        "\n",
        "A través del readme.md conocemos que es un proyecto para emular los sonidos de animales y que es diseñado por freepik.com. \n",
        "\n",
        "Inicialmente, el archivo `animales.py` se encontraba dentro de `main.py`. Esto se puede ver al inicio el commit `c8b1a62`, donde el autor agregó la definición de animales. Luego, en el commit `362fe21` se separó el proyecto por modulos, donde el autor eliminó la definición de animales del archivo `main.py` y la agregó en el archivo `animales.py`. \n",
        "\n",
        "Los elementos que los conforman son: \n",
        "- readme.md: se muestra el objetivo del proyecto, junto con una imagen de animales. \n",
        "- `animales.py`: archivo donde se define la función `animales`, en donde se emula el sonido de un gato y un perro, y muestra el video relacionado a un zorro.  \n",
        "- main.py: archivo que importa animales, donde realiza un print de \"Ingrese el animalito para saber que dice:\", el usuario entrega el animal, y retorna el sonido del animal (definido por la función animales en `animales.py`). "
      ]
    },
    {
      "cell_type": "markdown",
      "metadata": {
        "cell_id": "3aab4a3ee0c246e1be955680ad653fb8",
        "deepnote_cell_type": "markdown",
        "id": "XFwqcpLZfylf"
      },
      "source": [
        "4. Identifique los últimos cambios al repositorio, reconociendo las principales ramas de trabajo. ¿Son informativos los `commit` realizados? (0.25 pts)\n",
        "*Hint: Se recomienda usar los argumentos `all`, `graph` y `decorate`*"
      ]
    },
    {
      "cell_type": "markdown",
      "metadata": {
        "cell_id": "0fab79a360ac4c6a9ca0ab884f85c7e1",
        "deepnote_cell_type": "markdown",
        "id": "cmWfXBkOhog0"
      },
      "source": [
        "<code>Escriba sus respuestas acá:</code>"
      ]
    },
    {
      "cell_type": "markdown",
      "metadata": {
        "cell_id": "d07b24d21f2343fb9a7e6a5db74e98c3",
        "deepnote_cell_type": "markdown",
        "id": "Vqbj9HdXrUnN"
      },
      "source": [
        "5. Uno de los académicos se da cuenta que la rama principal de trabajo no se ejecuta correctamente para todos los argumentos. Señale y explique el error en el código e identifique a la persona que lo cometió usando `git blame` (0.25 pts)\n",
        "\n",
        "*Hint: Le puede ser útil esta [documentación](https://www.atlassian.com/es/git/tutorials/inspecting-a-repository/git-blame).*"
      ]
    },
    {
      "cell_type": "markdown",
      "metadata": {
        "cell_id": "bc5b0f9c639643108f8e66687b721732",
        "deepnote_cell_type": "markdown",
        "id": "5ajhV2Iar3tV"
      },
      "source": [
        "<code>Escriba sus respuestas acá:</code>"
      ]
    },
    {
      "cell_type": "markdown",
      "metadata": {
        "cell_id": "f3f4e78e6d9145ebbb120c0a2e4aade6",
        "deepnote_cell_type": "markdown",
        "id": "m8J3uE7MhqTA"
      },
      "source": [
        "6. Busque los siguientes `commit`:\n",
        "\n",
        "- `c8b1a62d7299552b0654f930d695b33109214111`\n",
        "- `362fe21ee44f53ee944cee4ba484600308f83d78`\n",
        "- `25543a3baf77292baf849726784ca005473acab1`\n",
        "\n",
        "¿Qué diferencias existen entre cada uno? (0.25 pts)"
      ]
    },
    {
      "cell_type": "markdown",
      "metadata": {
        "cell_id": "696ed361ac0c41c8a214cfad9dcb39e6",
        "deepnote_cell_type": "markdown",
        "id": "sNHnZsgIitGh"
      },
      "source": [
        "<code>Escriba sus respuestas acá:</code>"
      ]
    },
    {
      "cell_type": "markdown",
      "metadata": {
        "cell_id": "b4e18f8ce94c430f85915c4e2732d05b",
        "deepnote_cell_type": "markdown",
        "id": "WQIPbfNCgpxC"
      },
      "source": [
        "7. Realice una `merge` de la rama `fix-ifs` con la rama `main` y describa lo que ocurre. ¿Qué parte del código podría estar ocasionando esto? (0.25 pts)"
      ]
    },
    {
      "cell_type": "markdown",
      "metadata": {
        "cell_id": "36da6a0d4f4a427bbccac09e2ae965fd",
        "deepnote_cell_type": "markdown",
        "id": "ypH_6lL5ioZz"
      },
      "source": [
        "<code>Escriba sus respuestas acá:</code>"
      ]
    },
    {
      "cell_type": "markdown",
      "metadata": {
        "cell_id": "09787ab449c543479e5cc54c2a3b6c19",
        "deepnote_cell_type": "markdown",
        "id": "GYfODCjeivkU"
      },
      "source": [
        "8. Cree una rama nueva y proponga una solución al problema anterior, adjuntando el código corregido y señalando las líneas modificadas. (0.25 pts)"
      ]
    },
    {
      "cell_type": "markdown",
      "metadata": {
        "cell_id": "6d963fba3f2d4c17a4b281c7d3f4fb8b",
        "deepnote_cell_type": "markdown",
        "id": "8heBxDU9iziT"
      },
      "source": [
        "<code>Escriba sus respuestas acá:</code>"
      ]
    },
    {
      "cell_type": "markdown",
      "metadata": {
        "cell_id": "8a47d4bf8b3045d68e4f29bb449c87f1",
        "deepnote_cell_type": "markdown",
        "id": "Av8ebB9jkALO"
      },
      "source": [
        "## Fin"
      ]
    },
    {
      "cell_type": "markdown",
      "metadata": {
        "cell_id": "cec4b53942ed489f8f8b63d0e9d4f3e5",
        "deepnote_cell_type": "markdown",
        "id": "aQqZT9fSkBK8"
      },
      "source": [
        "Eso ha sido todo por ahora!! Esperamos que este laboratorio les haya gustado y servido para trabajar con `Git`. Recuerden los dias de plazo que tienen disponibles y que ante cualquier duda no duden en contactar al equipo docente.\n",
        "\n",
        "Nos vemos!!\n",
        "\n",
        "<p align=\"center\">\n",
        "  <img src=\"https://media.tenor.com/OYLdav9k9LkAAAAd/kitty-cat.gif\" width=\"350\">\n",
        "</p>\n"
      ]
    }
  ],
  "metadata": {
    "colab": {
      "provenance": []
    },
    "deepnote_execution_queue": [],
    "deepnote_notebook_id": "62cd20d52b9a4810ada15644630456dc",
    "language_info": {
      "name": "python"
    }
  },
  "nbformat": 4,
  "nbformat_minor": 0
}
